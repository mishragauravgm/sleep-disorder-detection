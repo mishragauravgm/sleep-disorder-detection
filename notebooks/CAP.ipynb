{
 "cells": [
  {
   "cell_type": "code",
   "execution_count": 1,
   "metadata": {},
   "outputs": [],
   "source": [
    "import numpy as np\n",
    "import mne\n",
    "import pandas as pd\n",
    "import glob\n",
    "import os"
   ]
  },
  {
   "cell_type": "code",
   "execution_count": null,
   "metadata": {},
   "outputs": [
    {
     "name": "stdout",
     "output_type": "stream",
     "text": [
      "Processing\t nfle39 \n",
      "\n",
      "Extracting EDF parameters from /home/mishra.g/spring2022/hci/project/data/physionet.org/files/capslpdb/1.0.0/nfle39.edf...\n",
      "EDF file detected\n",
      "Setting channel info structure...\n",
      "Creating raw.info structure...\n"
     ]
    }
   ],
   "source": [
    "for files in glob.glob('physionet.org/files/capslpdb/1.0.0/*.edf'):\n",
    "    \n",
    "    filename = os.path.basename(files)[:-4]\n",
    "    if(os.path.isfile(filename+'.csv')):\n",
    "        print(filename + \" already done, skipping\");\n",
    "        continue;\n",
    "        \n",
    "    print(\"Processing\\t\", filename,\"\\n\");\n",
    "    edf = mne.io.read_raw_edf(files)\n",
    "    header = ','.join(edf.ch_names)\n",
    "    np.savetxt(\"temp.csv\", edf.get_data().T, delimiter=',', header=header)\n",
    "    data_ecg = pd.read_csv(\"temp.csv\")\n",
    "    try:\n",
    "        data_ecg = data_ecg['ECG1-ECG2']\n",
    "    except KeyError:\n",
    "        try:\n",
    "            data_ecg = data_ecg['ECG']\n",
    "        except KeyError:\n",
    "            data_ecg = data_ecg['EKG']\n",
    "    data_ecg.to_csv(filename+'.csv')\n",
    "    print(\"Saved\\t\", filename, \"\\n\");"
   ]
  },
  {
   "cell_type": "code",
   "execution_count": 23,
   "metadata": {},
   "outputs": [
    {
     "data": {
      "text/html": [
       "<div>\n",
       "<style scoped>\n",
       "    .dataframe tbody tr th:only-of-type {\n",
       "        vertical-align: middle;\n",
       "    }\n",
       "\n",
       "    .dataframe tbody tr th {\n",
       "        vertical-align: top;\n",
       "    }\n",
       "\n",
       "    .dataframe thead th {\n",
       "        text-align: right;\n",
       "    }\n",
       "</style>\n",
       "<table border=\"1\" class=\"dataframe\">\n",
       "  <thead>\n",
       "    <tr style=\"text-align: right;\">\n",
       "      <th></th>\n",
       "      <th>Sampling Frequency(Hz)</th>\n",
       "    </tr>\n",
       "    <tr>\n",
       "      <th>Name</th>\n",
       "      <th></th>\n",
       "    </tr>\n",
       "  </thead>\n",
       "  <tbody>\n",
       "    <tr>\n",
       "      <td>brux1.txt</td>\n",
       "      <td>512</td>\n",
       "    </tr>\n",
       "    <tr>\n",
       "      <td>brux2.txt</td>\n",
       "      <td>256</td>\n",
       "    </tr>\n",
       "    <tr>\n",
       "      <td>ins1.txt</td>\n",
       "      <td>256</td>\n",
       "    </tr>\n",
       "    <tr>\n",
       "      <td>ins2.txt</td>\n",
       "      <td>512</td>\n",
       "    </tr>\n",
       "    <tr>\n",
       "      <td>ins3.txt</td>\n",
       "      <td>256</td>\n",
       "    </tr>\n",
       "    <tr>\n",
       "      <td>...</td>\n",
       "      <td>...</td>\n",
       "    </tr>\n",
       "    <tr>\n",
       "      <td>rbd22.txt</td>\n",
       "      <td>512</td>\n",
       "    </tr>\n",
       "    <tr>\n",
       "      <td>sdb1.txt</td>\n",
       "      <td>256</td>\n",
       "    </tr>\n",
       "    <tr>\n",
       "      <td>sdb2.txt</td>\n",
       "      <td>256</td>\n",
       "    </tr>\n",
       "    <tr>\n",
       "      <td>sdb3.txt</td>\n",
       "      <td>512</td>\n",
       "    </tr>\n",
       "    <tr>\n",
       "      <td>sdb4.txt</td>\n",
       "      <td>256</td>\n",
       "    </tr>\n",
       "  </tbody>\n",
       "</table>\n",
       "<p>108 rows × 1 columns</p>\n",
       "</div>"
      ],
      "text/plain": [
       "           Sampling Frequency(Hz)\n",
       "Name                             \n",
       "brux1.txt                     512\n",
       "brux2.txt                     256\n",
       "ins1.txt                      256\n",
       "ins2.txt                      512\n",
       "ins3.txt                      256\n",
       "...                           ...\n",
       "rbd22.txt                     512\n",
       "sdb1.txt                      256\n",
       "sdb2.txt                      256\n",
       "sdb3.txt                      512\n",
       "sdb4.txt                      256\n",
       "\n",
       "[108 rows x 1 columns]"
      ]
     },
     "execution_count": 23,
     "metadata": {},
     "output_type": "execute_result"
    }
   ],
   "source": [
    "sr_file"
   ]
  },
  {
   "cell_type": "code",
   "execution_count": 27,
   "metadata": {},
   "outputs": [
    {
     "data": {
      "text/plain": [
       "512"
      ]
     },
     "execution_count": 27,
     "metadata": {},
     "output_type": "execute_result"
    }
   ],
   "source": [
    "sr_file.loc['brux1.txt','Sampling Frequency(Hz)']"
   ]
  },
  {
   "cell_type": "code",
   "execution_count": 25,
   "metadata": {},
   "outputs": [],
   "source": [
    "sr_file = pd.read_csv('samp_freq.csv', index_col=0)\n",
    "for file in glob.glob('physionet.org/files/capslpdb/1.0.0/*.txt'):\n",
    "    info_file = pd.read_csv(file, skiprows = 20, sep='\\t');\n",
    "    filename = os.path.basename(file);\n",
    "    filename_without_ext = filename[:-4];\n",
    "    if(os.path.isfile('wake_ecg/'+filename_without_ext+'.csv')):\n",
    "        print(filename_without_ext + \" already done, skipping\");\n",
    "        continue;\n",
    "    sr = sr_file.loc[filename,'Sampling Frequency(Hz)'];\n",
    "    print(f\"Extracting wake ECG data for {filename_without_ext}\");\n",
    "\n",
    "    for i in range(len(info_file)):\n",
    "        if(i==0):\n",
    "            info_file.loc[i,'Data Start'] = 0;\n",
    "            info_file.loc[i,'Data End'] = info_file.loc[i,'Duration[s]']*sr;\n",
    "        else:\n",
    "            info_file.loc[i,'Data Start'] = info_file.loc[i-1,'Data End']+1;\n",
    "            info_file.loc[i,'Data End'] = info_file.loc[i,'Data Start'] + info_file.loc[i,'Duration[s]']*sr-1;\n",
    "    wake_data = info_file[info_file['Sleep Stage']=='W'];\n",
    "    wake_data.reset_index(inplace=True, drop=True)\n",
    "    #for i in range(len(wake_data)):\n",
    "    #    start\n",
    "    all_ecg = pd.read_csv(filename_without_ext+'.csv');\n",
    "    wake_ecg = []\n",
    "    for j in range(len(wake_data)):\n",
    "        #print(j)\n",
    "        wake_ecg.extend(all_ecg.iloc[int(wake_data.loc[j,'Data Start']):int(wake_data.loc[j,'Data End']),1])\n",
    "    wake_ecg = pd.DataFrame(wake_ecg);\n",
    "    wake_ecg.to_csv('wake_ecg/'+filename_without_ext+'.csv', index=False);            "
   ]
  },
  {
   "cell_type": "code",
   "execution_count": 33,
   "metadata": {},
   "outputs": [],
   "source": [
    "wake_data = info_file[info_file['Sleep Stage']=='W'];\n",
    "wake_data.reset_index(inplace=True, drop=True)\n",
    "\n",
    "'''starts = []\n",
    "ends = []\n",
    "\n",
    "for i in range(len(wake_data)):\n",
    "    if i==0:\n",
    "        starts.append(wake_data.loc[i,'Data Start']);\n",
    "    else:\n",
    "        if(wake_data.loc[i,'Data Start']==wake_data.loc[i-1,'Data End']):\n",
    "            continue;\n",
    "        else:\n",
    "            starts.append(wake_data.loc[i,'Data Start'])\n",
    "            ends.append(wake_data.loc[i+1,'Data Start']);\n",
    "'''            "
   ]
  }
 ],
 "metadata": {
  "kernelspec": {
   "display_name": "Python 3",
   "language": "python",
   "name": "python3"
  },
  "language_info": {
   "codemirror_mode": {
    "name": "ipython",
    "version": 3
   },
   "file_extension": ".py",
   "mimetype": "text/x-python",
   "name": "python",
   "nbconvert_exporter": "python",
   "pygments_lexer": "ipython3",
   "version": "3.7.6"
  }
 },
 "nbformat": 4,
 "nbformat_minor": 4
}
